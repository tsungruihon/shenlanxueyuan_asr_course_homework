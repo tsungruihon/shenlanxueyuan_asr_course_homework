{
 "cells": [
  {
   "attachments": {},
   "cell_type": "markdown",
   "metadata": {},
   "source": [
    "首先按照 ubuntu18.04安装kaldi及srilm.pdf 安装SRILM。感谢@watchtower"
   ]
  },
  {
   "cell_type": "code",
   "execution_count": 1,
   "metadata": {
    "scrolled": false
   },
   "outputs": [
    {
     "name": "stdout",
     "output_type": "stream",
     "text": [
      "SRILM release 1.7.3 (with third-party contributions)\r\n",
      "Built with GCC 7.4.0\r\n",
      "and options -g -O3 \r\n",
      "\r\n",
      "Program version @(#)$Id: ngram.cc,v 1.141 2019/09/09 23:13:13 stolcke Exp $\r\n",
      "\r\n",
      "Support for compressed files is included.\r\n",
      "Using libLBFGS.\r\n",
      "Using OpenMP version 201511.\r\n",
      "\r\n",
      "This software is subject to the SRILM Community Research License Version\r\n",
      "1.0 (the \"License\"); you may not use this software except in compliance\r\n",
      "with the License.  A copy of the License is included in the SRILM root\r\n",
      "directory in the \"License\" file.  Software distributed under the License\r\n",
      "is distributed on an \"AS IS\" basis, WITHOUT WARRANTY OF ANY KIND, either\r\n",
      "express or implied.  See the License for the specific language governing\r\n",
      "rights and limitations under the License.\r\n",
      "\r\n",
      "This software is Copyright (c) 1995-2019 SRI International.  All rights\r\n",
      "reserved.\r\n",
      "\r\n",
      "Portions of this software are\r\n",
      "Copyright (c) 2002-2005 Jeff Bilmes\r\n",
      "Copyright (c) 2009-2013 Tanel Alumae\r\n",
      "Copyright (c) 2011-2019 Andreas Stolcke\r\n",
      "Copyright (c) 2012-2019 Microsoft Corp.\r\n",
      "\r\n",
      "SRILM also includes open-source software as listed in the\r\n",
      "ACKNOWLEDGEMENTS file in the SRILM root directory.\r\n",
      "\r\n",
      "If this software was obtained under a commercial license agreement with\r\n",
      "SRI then the provisions therein govern the use of the software and the\r\n",
      "above notice does not apply.\r\n",
      "\r\n"
     ]
    }
   ],
   "source": [
    "!ngram -version"
   ]
  },
  {
   "cell_type": "markdown",
   "metadata": {},
   "source": [
    "Q：使用 SRILM 获得经过 interpolation 式的 Kneser Ney 平滑的 3 gram 以上的语言模型。总结你观察到的一些现象。"
   ]
  },
  {
   "cell_type": "code",
   "execution_count": 2,
   "metadata": {
    "scrolled": true
   },
   "outputs": [
    {
     "name": "stdout",
     "output_type": "stream",
     "text": [
      "=== 计数文件生成完毕 ===\n",
      "=== 语言模型生成完成 ===\n",
      "LM_train1: No such file or directory\n",
      "LM_train1: No such file or directory\n",
      "=== 测试集合困惑度计算完成 ===\n",
      "LM_train1: No such file or directory\n",
      "LM_train1: No such file or directory\n",
      "=== 测试集合每个测试用例的困惑度计算完成 ===\n"
     ]
    }
   ],
   "source": [
    "# train_set: minitrain.txt, minitrain2.txt\n",
    "# test_set: test1.txt, test2.txt\n",
    "# 1. 从语料库中生成n-gram计数文件\n",
    "# -text 指向输入文件\n",
    "# -order 指向生成几元的n-gram，即n\n",
    "# -write 指向输出文件\n",
    "!ngram-count -text minitrain.txt -order 3 -write train1_result/minitrain.txt.count\n",
    "!echo \"=== 计数文件生成完毕 ===\" \n",
    "\n",
    "# 2. 从上一步生成的计数文件中训练语言模型\n",
    "# -read 指向输入文件，为上一步的输出文件\n",
    "# -order 指向生成几元的n-gram，即n\n",
    "# -lm 指向训练好的语言模型输出文件\n",
    "# 最后两个参数为所采用的平滑方法，-interpolate为插值平滑，-kndiscount为 modified　Kneser-Ney 打折法，这两个是联合使用的\n",
    "!ngram-count -read train1_result/minitrain.txt.count -order 3 -lm train1_result/LM_train1 -interpolate -kndiscount\n",
    "!echo \"=== 语言模型生成完成 ===\"\n",
    "\n",
    "# 3. 利用上一步生成的语言模型计算测试集的困惑度\n",
    "!ngram -ppl test1.txt -order 3 -lm LM_train1 > train1_result/result_test1_v1\n",
    "!ngram -ppl test2.txt -order 3 -lm LM_train1 > train1_result/result_test2_v1\n",
    "!echo \"=== 测试集合困惑度计算完成 ===\"\n",
    "\n",
    "\n",
    "# 4. 为每条句子单独打分\n",
    "!ngram -ppl test1.txt -order 3 -lm LM_train1 -debug 1 > train1_result/result_test1_sent_v1\n",
    "!ngram -ppl test2.txt -order 3 -lm LM_train1 -debug 1 > train1_result/result_test2_sent_v1\n",
    "!echo \"=== 测试集合每个测试用例的困惑度计算完成 ===\""
   ]
  },
  {
   "cell_type": "code",
   "execution_count": 3,
   "metadata": {},
   "outputs": [
    {
     "name": "stdout",
     "output_type": "stream",
     "text": [
      "one of modified KneserNey discounts is negative\r\n",
      "error in discount estimator for order 1\r\n"
     ]
    }
   ],
   "source": [
    "# 当我们执行这两步的时候我们会发现会出现报错\n",
    "# ”““one of modified KneserNey discounts is negative\n",
    "# error in discount estimator for order 1”“”\n",
    "# 表示进行平滑处理的时候由于数据集太小出现了discount的值为负数导致程序退出\n",
    "!ngram-count -text minitrain2.txt -order 3 -write minitrain2.txt.count\n",
    "!ngram-count -read minitrain2.txt.count -order 3 -lm LM_train2 -interpolate -kndiscount"
   ]
  }
 ],
 "metadata": {
  "kernelspec": {
   "display_name": "Python 3",
   "language": "python",
   "name": "python3"
  },
  "language_info": {
   "codemirror_mode": {
    "name": "ipython",
    "version": 3
   },
   "file_extension": ".py",
   "mimetype": "text/x-python",
   "name": "python",
   "nbconvert_exporter": "python",
   "pygments_lexer": "ipython3",
   "version": "3.7.3"
  }
 },
 "nbformat": 4,
 "nbformat_minor": 2
}
